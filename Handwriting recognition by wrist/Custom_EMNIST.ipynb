{
 "cells": [
  {
   "cell_type": "code",
   "execution_count": 1,
   "metadata": {},
   "outputs": [],
   "source": [
    "import matplotlib.pyplot as plt\n",
    "\n",
    "# Empty Sequential model\n",
    "from tensorflow.keras.models import Sequential\n",
    "model = Sequential()"
   ]
  },
  {
   "cell_type": "code",
   "execution_count": 4,
   "metadata": {},
   "outputs": [],
   "source": [
    "# Load Model\n",
    "from tensorflow.keras.models import load_model\n",
    "model = load_model(\"emnist_trained.h5\")"
   ]
  },
  {
   "cell_type": "markdown",
   "metadata": {},
   "source": [
    "A: 1, B: 2, C: 3, D: 4, E: 5, F: 6, G: 7, H: 8, I: 9, J: 10, K: 11, L: 12, M: 13, N: 14, O: 15, P: 16, Q: 17, R: 18, S: 19, T: 20, U: 21, V: 22, W: 23, X: 24, Y: 25, Z: 26"
   ]
  },
  {
   "cell_type": "markdown",
   "metadata": {},
   "source": [
    "## Check an Image from the default images"
   ]
  },
  {
   "cell_type": "code",
   "execution_count": 40,
   "metadata": {},
   "outputs": [
    {
     "name": "stdout",
     "output_type": "stream",
     "text": [
      "1/1 [==============================] - 0s 11ms/step\n",
      "[[0.0000000e+00 0.0000000e+00 0.0000000e+00 0.0000000e+00 0.0000000e+00\n",
      "  0.0000000e+00 6.7509654e-33 0.0000000e+00 0.0000000e+00 1.6098464e-38\n",
      "  0.0000000e+00 0.0000000e+00 0.0000000e+00 0.0000000e+00 0.0000000e+00\n",
      "  0.0000000e+00 2.9766317e-10 0.0000000e+00 0.0000000e+00 0.0000000e+00\n",
      "  1.0000000e+00 0.0000000e+00 0.0000000e+00 0.0000000e+00 0.0000000e+00\n",
      "  8.1742191e-10 0.0000000e+00]]\n",
      "[20]\n"
     ]
    },
    {
     "data": {
      "image/png": "[encoded data removed]",
      "text/plain": [
       "<Figure size 640x480 with 1 Axes>"
      ]
     },
     "metadata": {},
     "output_type": "display_data"
    }
   ],
   "source": [
    "# file = \"imageData/images/test5.png\"\n",
    "file = \"imageData/indexfinger_58/ttttt_test.jpg\"\n",
    "\n",
    "import numpy as np\n",
    "\n",
    "from tensorflow.keras.preprocessing import image\n",
    "image_size = (28,28)\n",
    "im = image.load_img(file, target_size=image_size, color_mode=\"grayscale\")\n",
    "\n",
    "from tensorflow.keras.preprocessing.image import img_to_array\n",
    "image = img_to_array(im)\n",
    "\n",
    "image /= 255\n",
    "img = image.flatten().reshape(-1, 28*28)\n",
    "\n",
    "img = 1 - img\n",
    "plt.imshow(img.reshape(28,28), cmap=plt.cm.Greys)\n",
    "\n",
    "# model.predict_classes(img)\n",
    "\n",
    "# Get raw predictions\n",
    "predictions = model.predict(img)#.round()\n",
    "\n",
    "print(predictions)\n",
    "\n",
    "# Get indices of maximum prediction values \n",
    "predicted_classes = np.argmax(predictions, axis=1)\n",
    "\n",
    "print(predicted_classes)"
   ]
  },
  {
   "cell_type": "code",
   "execution_count": 43,
   "metadata": {},
   "outputs": [
    {
     "name": "stdout",
     "output_type": "stream",
     "text": [
      "[[0.03482102 0.03482102 0.03482102 0.03482102 0.03482102 0.03482102\n",
      "  0.03482102 0.03482102 0.03482102 0.03482102 0.03482102 0.03482102\n",
      "  0.03482102 0.03482102 0.03482102 0.03482102 0.03482102 0.03482102\n",
      "  0.03482102 0.03482102 0.09465335 0.03482102 0.03482102 0.03482102\n",
      "  0.03482102 0.03482102 0.03482102]]\n",
      "Probabilities: [[0.03482102 0.03482102 0.03482102 0.03482102 0.03482102 0.03482102\n",
      "  0.03482102 0.03482102 0.03482102 0.03482102 0.03482102 0.03482102\n",
      "  0.03482102 0.03482102 0.03482102 0.03482102 0.03482102 0.03482102\n",
      "  0.03482102 0.03482102 0.09465335 0.03482102 0.03482102 0.03482102\n",
      "  0.03482102 0.03482102 0.03482102]]\n",
      "Predicted Classes: [20]\n"
     ]
    }
   ],
   "source": [
    "# Assuming 'predictions' contains the raw prediction values\n",
    "raw_predictions = np.array([[0.0000000e+00, 0.0000000e+00, ..., 0.0000000e+00]])\n",
    "\n",
    "# Apply softmax to get probability distribution\n",
    "def softmax(x):\n",
    "    e_x = np.exp(x - np.max(x))\n",
    "    return e_x / e_x.sum()\n",
    "\n",
    "# Apply softmax to raw predictions\n",
    "probabilities = softmax(predictions)\n",
    "\n",
    "print(probabilities)\n",
    "\n",
    "# Get indices of maximum probability values\n",
    "predicted_classes = np.argmax(probabilities, axis=1)\n",
    "\n",
    "# Print probabilities and predicted classes\n",
    "print(\"Probabilities:\", probabilities)\n",
    "print(\"Predicted Classes:\", predicted_classes)"
   ]
  },
  {
   "cell_type": "markdown",
   "metadata": {},
   "source": [
    "## Check index_finger"
   ]
  },
  {
   "cell_type": "code",
   "execution_count": null,
   "metadata": {},
   "outputs": [],
   "source": [
    "file = \"imageData/indexfinger_58/captured_lines_20230829161423.jpg\"\n",
    "\n",
    "import numpy as np\n",
    "\n",
    "from tensorflow.keras.preprocessing import image\n",
    "image_size = (28,28)\n",
    "im = image.load_img(file, target_size=image_size, color_mode=\"grayscale\")\n",
    "\n",
    "from tensorflow.keras.preprocessing.image import img_to_array\n",
    "image = img_to_array(im)\n",
    "\n",
    "image /= 255\n",
    "img = image.flatten().reshape(-1, 28*28)\n",
    "\n",
    "img = 1 - img\n",
    "plt.imshow(img.reshape(28,28), cmap=plt.cm.Greys)\n",
    "\n",
    "# model.predict_classes(img)\n",
    "\n",
    "# Get raw predictions\n",
    "index_finger_predictions = model.predict(img)\n",
    "print(index_finger_predictions)\n",
    "\n",
    "# Get indices of maximum prediction values \n",
    "index_finger_predicted_classes = np.argmax(index_finger_predictions, axis=1)\n",
    "\n",
    "print(index_finger_predicted_classes)"
   ]
  },
  {
   "cell_type": "markdown",
   "metadata": {},
   "source": [
    "## Marker Test"
   ]
  },
  {
   "cell_type": "code",
   "execution_count": 31,
   "metadata": {},
   "outputs": [],
   "source": [
    "# For saving flipped image and then testing\n",
    "import PIL\n",
    "from PIL import Image\n",
    "import glob, os\n",
    "\n",
    "files = glob.glob(\"imageData/indexFinger_58/*.jpg\")\n",
    "\n",
    "for infile in files:\n",
    "    image = Image.open(infile)\n",
    "    im = image.rotate(270)\n",
    "    im.thumbnail((28,28), Image.LANCZOS) #ANTIALIAS)\n",
    "    im.save(infile + '_thumbnail', 'JPEG')"
   ]
  },
  {
   "cell_type": "code",
   "execution_count": 34,
   "metadata": {},
   "outputs": [
    {
     "name": "stdout",
     "output_type": "stream",
     "text": [
      "1/1 [==============================] - 0s 11ms/step\n",
      "[[0.0000000e+00 0.0000000e+00 0.0000000e+00 0.0000000e+00 0.0000000e+00\n",
      "  0.0000000e+00 0.0000000e+00 0.0000000e+00 0.0000000e+00 0.0000000e+00\n",
      "  0.0000000e+00 0.0000000e+00 2.2148965e-12 0.0000000e+00 0.0000000e+00\n",
      "  0.0000000e+00 0.0000000e+00 0.0000000e+00 0.0000000e+00 0.0000000e+00\n",
      "  0.0000000e+00 0.0000000e+00 0.0000000e+00 0.0000000e+00 0.0000000e+00\n",
      "  1.0000000e+00 0.0000000e+00]]\n",
      "[25]\n"
     ]
    },
    {
     "data": {
      "image/png": "[encoded data removed]",
      "text/plain": [
       "<Figure size 640x480 with 1 Axes>"
      ]
     },
     "metadata": {},
     "output_type": "display_data"
    }
   ],
   "source": [
    "file = \"imageData/indexFinger_58/lll_test.jpg_thumbnail\"\n",
    "\n",
    "from tensorflow.keras.preprocessing import image\n",
    "from tensorflow.keras.preprocessing.image import img_to_array\n",
    "\n",
    "image_size = (28,28)\n",
    "im = image.load_img(file, target_size=image_size, color_mode=\"grayscale\")\n",
    "\n",
    "\n",
    "image = img_to_array(im)\n",
    "\n",
    "image /= 255\n",
    "img = image.flatten().reshape(-1, 28*28)\n",
    "\n",
    "img = 1 - img\n",
    "plt.imshow(img.reshape(28,28), cmap=plt.cm.Greys)\n",
    "\n",
    "# model.predict_classes(img)\n",
    "\n",
    "# Get raw predictions\n",
    "index_finger_marker_predictions = model.predict(img) \n",
    "\n",
    "print(index_finger_marker_predictions)\n",
    "\n",
    "# Get indices of maximum prediction values \n",
    "index_finger_marker_predicted_classes = np.argmax(index_finger_marker_predictions, axis=1)\n",
    "\n",
    "print(index_finger_marker_predicted_classes)"
   ]
  },
  {
   "cell_type": "markdown",
   "metadata": {},
   "source": [
    "## imSharpie"
   ]
  },
  {
   "cell_type": "code",
   "execution_count": null,
   "metadata": {},
   "outputs": [],
   "source": [
    "# For saving flipped image and then testing\n",
    "import PIL\n",
    "from PIL import Image\n",
    "import glob, os\n",
    "import numpy as np\n",
    "\n",
    "files = glob.glob(\"imageData/indexfinger_58/*.jpg\")\n",
    "\n",
    "for infile in files:\n",
    "    image = Image.open(infile)\n",
    "    im = image.rotate(270)\n",
    "    im.thumbnail((28,28), Image.LANCZOS)\n",
    "    im.save(infile + '_thumbnail', 'JPEG')"
   ]
  },
  {
   "cell_type": "code",
   "execution_count": null,
   "metadata": {},
   "outputs": [],
   "source": [
    "file = \"imageData/indexfinger_58/captured_lines_20230829161423.jpg_thumbnail\"\n",
    "\n",
    "from tensorflow.keras.preprocessing import image\n",
    "from tensorflow.keras.preprocessing.image import img_to_array\n",
    "\n",
    "image_size = (28,28)\n",
    "im = image.load_img(file, target_size=image_size, color_mode=\"grayscale\")\n",
    "\n",
    "\n",
    "image = img_to_array(im)\n",
    "\n",
    "image /= 255\n",
    "img = image.flatten().reshape(-1, 28*28)\n",
    "\n",
    "img = 1 - img\n",
    "plt.imshow(img.reshape(28,28), cmap=plt.cm.Greys)\n",
    "\n",
    "# model.predict_classes(img)\n",
    "\n",
    "# Get raw predictions\n",
    "index_finger_sharpy_marker_predictions = model.predict(img)\n",
    "\n",
    "print(index_finger_sharpy_marker_predictions)\n",
    "\n",
    "# Get indices of maximum prediction values \n",
    "index_finger_sharpy_marker_predicted_classes = np.argmax(index_finger_sharpy_marker_predictions, axis=1)\n",
    "\n",
    "print(index_finger_sharpy_marker_predicted_classes)"
   ]
  },
  {
   "cell_type": "markdown",
   "metadata": {},
   "source": [
    "## CV2"
   ]
  },
  {
   "cell_type": "code",
   "execution_count": null,
   "metadata": {},
   "outputs": [],
   "source": [
    "import cv2\n",
    "image = cv2.imread('imageData/indexfinger_58/captured_lines_20230829161431.jpg')\n",
    "gray = cv2.cvtColor(image, cv2.COLOR_BGR2GRAY)\n",
    "resized = cv2.resize(gray, (28,28))\n",
    "# cv2.imshow('gray',gray)\n",
    "# cv2.waitKey(0)\n",
    "cv2.imwrite('imageData/indexfinger_58/captured_lines_20230829161431_gray.jpg', resized)"
   ]
  },
  {
   "cell_type": "code",
   "execution_count": null,
   "metadata": {},
   "outputs": [],
   "source": [
    "file = 'imageData/indexfinger_58/captured_lines_20230829161431_gray.jpg'\n",
    "from tensorflow.keras.preprocessing import image\n",
    "from tensorflow.keras.preprocessing.image import img_to_array\n",
    "\n",
    "image_size = (28,28)\n",
    "im = image.load_img(file, target_size=image_size, color_mode=\"grayscale\")\n",
    "\n",
    "\n",
    "image = img_to_array(im)\n",
    "\n",
    "image /= 255\n",
    "img = image.flatten().reshape(-1, 28*28)\n",
    "\n",
    "img = 1 - img\n",
    "plt.imshow(img.reshape(28,28), cmap=plt.cm.Greys)\n",
    "\n",
    "# model.predict_classes(img)\n",
    "\n",
    "# Get raw predictions\n",
    "index_finger_cv2_marker_predictions = model.predict(img)\n",
    "\n",
    "print(index_finger_cv2_marker_predictions)\n",
    "\n",
    "# Get indices of maximum prediction values \n",
    "index_finger_cv2_sharpy_marker_predicted_classes = np.argmax(index_finger_cv2_marker_predictions, axis=1)\n",
    "\n",
    "print(index_finger_cv2_sharpy_marker_predicted_classes)"
   ]
  }
 ],
 "metadata": {
  "kernelspec": {
   "display_name": "handwritten-paper-env",
   "language": "python",
   "name": "python3"
  },
  "language_info": {
   "codemirror_mode": {
    "name": "ipython",
    "version": 3
   },
   "file_extension": ".py",
   "mimetype": "text/x-python",
   "name": "python",
   "nbconvert_exporter": "python",
   "pygments_lexer": "ipython3",
   "version": "3.11.4"
  },
  "orig_nbformat": 4
 },
 "nbformat": 4,
 "nbformat_minor": 2
}
